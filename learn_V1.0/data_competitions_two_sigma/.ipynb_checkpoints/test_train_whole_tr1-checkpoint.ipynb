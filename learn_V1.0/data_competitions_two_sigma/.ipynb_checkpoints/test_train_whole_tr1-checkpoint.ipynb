{
 "cells": [
  {
   "cell_type": "code",
   "execution_count": 1,
   "metadata": {},
   "outputs": [
    {
     "name": "stderr",
     "output_type": "stream",
     "text": [
      "D:\\Anaconda3\\lib\\site-packages\\sklearn\\cross_validation.py:41: DeprecationWarning: This module was deprecated in version 0.18 in favor of the model_selection module into which all the refactored classes and functions are moved. Also note that the interface of the new CV iterators are different from that of this module. This module will be removed in 0.20.\n",
      "  \"This module will be removed in 0.20.\", DeprecationWarning)\n"
     ]
    },
    {
     "data": {
      "text/html": [
       "<script type=\"text/javascript\">window.PlotlyConfig = {MathJaxConfig: 'local'};</script><script type=\"text/javascript\">if (window.MathJax) {MathJax.Hub.Config({SVG: {font: \"STIX-Web\"}});}</script><script>requirejs.config({paths: { 'plotly': ['https://cdn.plot.ly/plotly-latest.min']},});if(!window._Plotly) {require(['plotly'],function(plotly) {window._Plotly=plotly;});}</script>"
      ],
      "text/vnd.plotly.v1+html": [
       "<script type=\"text/javascript\">window.PlotlyConfig = {MathJaxConfig: 'local'};</script><script type=\"text/javascript\">if (window.MathJax) {MathJax.Hub.Config({SVG: {font: \"STIX-Web\"}});}</script><script>requirejs.config({paths: { 'plotly': ['https://cdn.plot.ly/plotly-latest.min']},});if(!window._Plotly) {require(['plotly'],function(plotly) {window._Plotly=plotly;});}</script>"
      ]
     },
     "metadata": {},
     "output_type": "display_data"
    }
   ],
   "source": [
    "import numpy as np\n",
    "import pandas as pd\n",
    "import matplotlib.pyplot as plt\n",
    "import seaborn as sns\n",
    "#%matplotlib inline\n",
    "import pickle as pk\n",
    "import csv\n",
    "import datetime\n",
    "import lightgbm as lgb\n",
    "from scipy import stats\n",
    "from scipy.sparse import hstack, csr_matrix\n",
    "from sklearn.model_selection import train_test_split\n",
    "from wordcloud import WordCloud\n",
    "from collections import Counter\n",
    "\n",
    "from sklearn.feature_extraction.text import TfidfVectorizer\n",
    "from sklearn.preprocessing import StandardScaler\n",
    "from sklearn import preprocessing\n",
    "from sklearn.cross_validation import train_test_split\n",
    "from sklearn.linear_model import LogisticRegression\n",
    "from sklearn.metrics import classification_report\n",
    "import plotly.offline as py\n",
    "py.init_notebook_mode(connected=True)\n",
    "import plotly.graph_objs as go\n",
    "import plotly.tools as tls\n",
    "\n",
    "#from xgboost import XGBClassifier\n",
    "import lightgbm as lgb\n",
    "from sklearn import model_selection\n",
    "from sklearn.metrics import accuracy_score\n",
    "import re\n",
    "import time\n",
    "import warnings\n",
    "warnings.filterwarnings('ignore')"
   ]
  },
  {
   "cell_type": "code",
   "execution_count": 2,
   "metadata": {},
   "outputs": [],
   "source": [
    "train_X_tr = pd.read_csv('D:/transaction_risk_competition/transaction_train_new.csv')\n",
    "test_X_tr = pd.read_csv('D:/transaction_risk_competition/transaction_round1_new.csv')\n",
    "label_train = pd.read_csv('D:/transaction_risk_competition/tag_train_new.csv')\n",
    "label_test = pd.read_csv('D:/transaction_risk_competition/sumbit_uid.csv')"
   ]
  },
  {
   "cell_type": "code",
   "execution_count": 3,
   "metadata": {},
   "outputs": [
    {
     "name": "stdout",
     "output_type": "stream",
     "text": [
      "len(train_X_tr) 264654\n",
      "len(test_X_tr) 168981\n",
      "len(label_train) 31179\n",
      "len(label_test) 31198\n"
     ]
    }
   ],
   "source": [
    "print(\"len(train_X_tr)\",len(train_X_tr))\n",
    "print(\"len(test_X_tr)\",len(test_X_tr))\n",
    "print(\"len(label_train)\",len(label_train))\n",
    "print(\"len(label_test)\",len(label_test))"
   ]
  },
  {
   "cell_type": "code",
   "execution_count": 4,
   "metadata": {},
   "outputs": [
    {
     "name": "stdout",
     "output_type": "stream",
     "text": [
      "len(train_test_tr) 433635\n"
     ]
    }
   ],
   "source": [
    "train_test_tr=pd.concat([train_X_tr,test_X_tr])\n",
    "print(\"len(train_test_tr)\",len(train_test_tr))"
   ]
  },
  {
   "cell_type": "code",
   "execution_count": 5,
   "metadata": {},
   "outputs": [],
   "source": [
    "del train_X_tr\n",
    "del test_X_tr"
   ]
  },
  {
   "cell_type": "code",
   "execution_count": 6,
   "metadata": {},
   "outputs": [],
   "source": [
    "pd.set_option('display.max_columns', None)\n",
    "#pd.set_option('display.max_rows', None)\n",
    "#设置value的显示长度为100，默认为50\n",
    "pd.set_option('max_colwidth',100)"
   ]
  },
  {
   "cell_type": "code",
   "execution_count": 7,
   "metadata": {},
   "outputs": [],
   "source": [
    "train_test_tr=train_test_tr[['UID','day','time','trans_amt','bal','acc_id1','acc_id2','acc_id3','amt_src1','amt_src2','trans_type2','trans_type1','market_code','market_type','merchant','channel','device_code1','device_code2','device_code3','device1','device2','mac1','ip1','ip1_sub','geo_code']]"
   ]
  },
  {
   "cell_type": "code",
   "execution_count": 8,
   "metadata": {},
   "outputs": [],
   "source": [
    "#选取做因子化\n",
    "##amt_src1 交易类型，余额，花呗做因子化\n",
    "##trans_type2\t线上线下 ，一定要因子化，只有4中，加上none,5中\n",
    "##market_type\t，营销类型，只有2种，加上空值，三种，一定要因子化\n",
    "##channel 平台，渠道，5种，加上空值6种，适合因子化\n",
    "values={'market_type':0,'channel':0,'trans_type2':0,'trans_type1':'0','amt_src1':'0','geo_code':'0'} \n",
    "train_test_tr.fillna(value=values,inplace = True)\n"
   ]
  },
  {
   "cell_type": "code",
   "execution_count": 9,
   "metadata": {},
   "outputs": [],
   "source": [
    "train_test_tr.sort_values(by=['UID','day','time'],inplace=True)\n"
   ]
  },
  {
   "cell_type": "code",
   "execution_count": 10,
   "metadata": {},
   "outputs": [],
   "source": [
    "train_test_tr['market_type'], uniques =pd.factorize(train_test_tr['market_type'],sort=True)\n",
    "del uniques\n",
    "train_test_tr['trans_type1'], uniques =pd.factorize(train_test_tr['trans_type1'],sort=True)\n",
    "del uniques\n",
    "a=train_test_tr['amt_src1'].value_counts().index.tolist()\n",
    "b=[0,1,2,3,4,5,6,7,8,9,10]+([-1]*(len(a)-11))\n",
    "dicts=dict(zip(a,b))\n",
    "train_test_tr['amt_src1']=train_test_tr['amt_src1'].map(dicts)\n",
    "del a,b,dicts\n"
   ]
  },
  {
   "cell_type": "code",
   "execution_count": 11,
   "metadata": {},
   "outputs": [
    {
     "data": {
      "text/html": [
       "<div>\n",
       "<style scoped>\n",
       "    .dataframe tbody tr th:only-of-type {\n",
       "        vertical-align: middle;\n",
       "    }\n",
       "\n",
       "    .dataframe tbody tr th {\n",
       "        vertical-align: top;\n",
       "    }\n",
       "\n",
       "    .dataframe thead th {\n",
       "        text-align: right;\n",
       "    }\n",
       "</style>\n",
       "<table border=\"1\" class=\"dataframe\">\n",
       "  <thead>\n",
       "    <tr style=\"text-align: right;\">\n",
       "      <th></th>\n",
       "      <th>UID</th>\n",
       "      <th>day</th>\n",
       "      <th>time</th>\n",
       "      <th>trans_amt</th>\n",
       "      <th>bal</th>\n",
       "      <th>acc_id1</th>\n",
       "      <th>acc_id2</th>\n",
       "      <th>acc_id3</th>\n",
       "      <th>amt_src1</th>\n",
       "      <th>amt_src2</th>\n",
       "      <th>trans_type2</th>\n",
       "      <th>trans_type1</th>\n",
       "      <th>market_code</th>\n",
       "      <th>market_type</th>\n",
       "      <th>merchant</th>\n",
       "      <th>channel</th>\n",
       "      <th>device_code1</th>\n",
       "      <th>device_code2</th>\n",
       "      <th>device_code3</th>\n",
       "      <th>device1</th>\n",
       "      <th>device2</th>\n",
       "      <th>mac1</th>\n",
       "      <th>ip1</th>\n",
       "      <th>ip1_sub</th>\n",
       "      <th>geo_code</th>\n",
       "    </tr>\n",
       "  </thead>\n",
       "  <tbody>\n",
       "    <tr>\n",
       "      <th>90698</th>\n",
       "      <td>10000</td>\n",
       "      <td>26</td>\n",
       "      <td>12:23:56</td>\n",
       "      <td>5536</td>\n",
       "      <td>100</td>\n",
       "      <td>NaN</td>\n",
       "      <td>NaN</td>\n",
       "      <td>NaN</td>\n",
       "      <td>3</td>\n",
       "      <td>9a8ee16bde15e38a</td>\n",
       "      <td>105.0</td>\n",
       "      <td>9</td>\n",
       "      <td>NaN</td>\n",
       "      <td>0</td>\n",
       "      <td>88aa547576f43f85</td>\n",
       "      <td>140</td>\n",
       "      <td>NaN</td>\n",
       "      <td>NaN</td>\n",
       "      <td>deb68f7028682008</td>\n",
       "      <td>aca4977fbe8741e1</td>\n",
       "      <td>IPHONE 5</td>\n",
       "      <td>NaN</td>\n",
       "      <td>34c715882de1a508</td>\n",
       "      <td>1e3ea9498c461cbf</td>\n",
       "      <td>0</td>\n",
       "    </tr>\n",
       "    <tr>\n",
       "      <th>134052</th>\n",
       "      <td>10000</td>\n",
       "      <td>26</td>\n",
       "      <td>12:24:17</td>\n",
       "      <td>5536</td>\n",
       "      <td>100</td>\n",
       "      <td>NaN</td>\n",
       "      <td>NaN</td>\n",
       "      <td>NaN</td>\n",
       "      <td>3</td>\n",
       "      <td>9a8ee16bde15e38a</td>\n",
       "      <td>105.0</td>\n",
       "      <td>9</td>\n",
       "      <td>NaN</td>\n",
       "      <td>0</td>\n",
       "      <td>88aa547576f43f85</td>\n",
       "      <td>140</td>\n",
       "      <td>NaN</td>\n",
       "      <td>NaN</td>\n",
       "      <td>deb68f7028682008</td>\n",
       "      <td>aca4977fbe8741e1</td>\n",
       "      <td>IPHONE 5</td>\n",
       "      <td>NaN</td>\n",
       "      <td>34c715882de1a508</td>\n",
       "      <td>1e3ea9498c461cbf</td>\n",
       "      <td>0</td>\n",
       "    </tr>\n",
       "    <tr>\n",
       "      <th>63298</th>\n",
       "      <td>10001</td>\n",
       "      <td>2</td>\n",
       "      <td>08:31:13</td>\n",
       "      <td>9287</td>\n",
       "      <td>100</td>\n",
       "      <td>NaN</td>\n",
       "      <td>NaN</td>\n",
       "      <td>NaN</td>\n",
       "      <td>1</td>\n",
       "      <td>NaN</td>\n",
       "      <td>105.0</td>\n",
       "      <td>9</td>\n",
       "      <td>NaN</td>\n",
       "      <td>0</td>\n",
       "      <td>f3237791ad270d6b</td>\n",
       "      <td>140</td>\n",
       "      <td>e56819f72c9b7860</td>\n",
       "      <td>1aa9250077f98fea</td>\n",
       "      <td>NaN</td>\n",
       "      <td>09baf2f39bc3dc86</td>\n",
       "      <td>HUAWEI GRA-CL00</td>\n",
       "      <td>8e98757bf596ee35</td>\n",
       "      <td>2c1958d001a993d9</td>\n",
       "      <td>bd5e6a16e61e61f7</td>\n",
       "      <td>wsgb</td>\n",
       "    </tr>\n",
       "    <tr>\n",
       "      <th>98298</th>\n",
       "      <td>10001</td>\n",
       "      <td>2</td>\n",
       "      <td>08:31:13</td>\n",
       "      <td>154</td>\n",
       "      <td>100</td>\n",
       "      <td>NaN</td>\n",
       "      <td>NaN</td>\n",
       "      <td>NaN</td>\n",
       "      <td>0</td>\n",
       "      <td>NaN</td>\n",
       "      <td>105.0</td>\n",
       "      <td>9</td>\n",
       "      <td>NaN</td>\n",
       "      <td>0</td>\n",
       "      <td>f3237791ad270d6b</td>\n",
       "      <td>140</td>\n",
       "      <td>e56819f72c9b7860</td>\n",
       "      <td>1aa9250077f98fea</td>\n",
       "      <td>NaN</td>\n",
       "      <td>09baf2f39bc3dc86</td>\n",
       "      <td>HUAWEI GRA-CL00</td>\n",
       "      <td>8e98757bf596ee35</td>\n",
       "      <td>2c1958d001a993d9</td>\n",
       "      <td>bd5e6a16e61e61f7</td>\n",
       "      <td>wsgb</td>\n",
       "    </tr>\n",
       "    <tr>\n",
       "      <th>42602</th>\n",
       "      <td>10001</td>\n",
       "      <td>3</td>\n",
       "      <td>07:18:17</td>\n",
       "      <td>15186</td>\n",
       "      <td>61204</td>\n",
       "      <td>65407f8f309309a6</td>\n",
       "      <td>NaN</td>\n",
       "      <td>NaN</td>\n",
       "      <td>2</td>\n",
       "      <td>9fefed0a981dcb7a</td>\n",
       "      <td>102.0</td>\n",
       "      <td>4</td>\n",
       "      <td>NaN</td>\n",
       "      <td>0</td>\n",
       "      <td>a18cb3d84b9ec04c</td>\n",
       "      <td>102</td>\n",
       "      <td>e56819f72c9b7860</td>\n",
       "      <td>1aa9250077f98fea</td>\n",
       "      <td>NaN</td>\n",
       "      <td>09baf2f39bc3dc86</td>\n",
       "      <td>HUAWEI GRA-CL00</td>\n",
       "      <td>8e98757bf596ee35</td>\n",
       "      <td>bca1b486effef686</td>\n",
       "      <td>8e6d45472f232ed4</td>\n",
       "      <td>wssu</td>\n",
       "    </tr>\n",
       "  </tbody>\n",
       "</table>\n",
       "</div>"
      ],
      "text/plain": [
       "          UID  day      time  trans_amt    bal           acc_id1 acc_id2  \\\n",
       "90698   10000   26  12:23:56       5536    100               NaN     NaN   \n",
       "134052  10000   26  12:24:17       5536    100               NaN     NaN   \n",
       "63298   10001    2  08:31:13       9287    100               NaN     NaN   \n",
       "98298   10001    2  08:31:13        154    100               NaN     NaN   \n",
       "42602   10001    3  07:18:17      15186  61204  65407f8f309309a6     NaN   \n",
       "\n",
       "       acc_id3  amt_src1          amt_src2  trans_type2  trans_type1  \\\n",
       "90698      NaN         3  9a8ee16bde15e38a        105.0            9   \n",
       "134052     NaN         3  9a8ee16bde15e38a        105.0            9   \n",
       "63298      NaN         1               NaN        105.0            9   \n",
       "98298      NaN         0               NaN        105.0            9   \n",
       "42602      NaN         2  9fefed0a981dcb7a        102.0            4   \n",
       "\n",
       "       market_code  market_type          merchant  channel      device_code1  \\\n",
       "90698          NaN            0  88aa547576f43f85      140               NaN   \n",
       "134052         NaN            0  88aa547576f43f85      140               NaN   \n",
       "63298          NaN            0  f3237791ad270d6b      140  e56819f72c9b7860   \n",
       "98298          NaN            0  f3237791ad270d6b      140  e56819f72c9b7860   \n",
       "42602          NaN            0  a18cb3d84b9ec04c      102  e56819f72c9b7860   \n",
       "\n",
       "            device_code2      device_code3           device1          device2  \\\n",
       "90698                NaN  deb68f7028682008  aca4977fbe8741e1         IPHONE 5   \n",
       "134052               NaN  deb68f7028682008  aca4977fbe8741e1         IPHONE 5   \n",
       "63298   1aa9250077f98fea               NaN  09baf2f39bc3dc86  HUAWEI GRA-CL00   \n",
       "98298   1aa9250077f98fea               NaN  09baf2f39bc3dc86  HUAWEI GRA-CL00   \n",
       "42602   1aa9250077f98fea               NaN  09baf2f39bc3dc86  HUAWEI GRA-CL00   \n",
       "\n",
       "                    mac1               ip1           ip1_sub geo_code  \n",
       "90698                NaN  34c715882de1a508  1e3ea9498c461cbf        0  \n",
       "134052               NaN  34c715882de1a508  1e3ea9498c461cbf        0  \n",
       "63298   8e98757bf596ee35  2c1958d001a993d9  bd5e6a16e61e61f7     wsgb  \n",
       "98298   8e98757bf596ee35  2c1958d001a993d9  bd5e6a16e61e61f7     wsgb  \n",
       "42602   8e98757bf596ee35  bca1b486effef686  8e6d45472f232ed4     wssu  "
      ]
     },
     "execution_count": 11,
     "metadata": {},
     "output_type": "execute_result"
    }
   ],
   "source": [
    "train_test_tr=train_test_tr[['UID','day','time','trans_amt','bal','acc_id1','acc_id2','acc_id3','amt_src1','amt_src2','trans_type2','trans_type1','market_code','market_type','merchant','channel','device_code1','device_code2','device_code3','device1','device2','mac1','ip1','ip1_sub','geo_code']]\n",
    "train_test_tr.head(5)"
   ]
  },
  {
   "cell_type": "code",
   "execution_count": 12,
   "metadata": {},
   "outputs": [],
   "source": [
    "#train_test_tr_uid1_count=train_test_tr[['acc_id1','acc_id2','acc_id3','amt_src1','amt_src2','trans_type2','trans_type1','market_code','market_type','merchant','channel','device_code1','device_code2','device1','device2','mac1','ip1','ip1_sub','geo_code']].groupby(train_test_tr['UID']).count().add_suffix('_count').reset_index()\n",
    "#train_test_tr_uid1_count.shape"
   ]
  },
  {
   "cell_type": "code",
   "execution_count": 13,
   "metadata": {},
   "outputs": [
    {
     "data": {
      "text/html": [
       "<div>\n",
       "<style scoped>\n",
       "    .dataframe tbody tr th:only-of-type {\n",
       "        vertical-align: middle;\n",
       "    }\n",
       "\n",
       "    .dataframe tbody tr th {\n",
       "        vertical-align: top;\n",
       "    }\n",
       "\n",
       "    .dataframe thead th {\n",
       "        text-align: right;\n",
       "    }\n",
       "</style>\n",
       "<table border=\"1\" class=\"dataframe\">\n",
       "  <thead>\n",
       "    <tr style=\"text-align: right;\">\n",
       "      <th></th>\n",
       "      <th>UID</th>\n",
       "      <th>acc_id1_count</th>\n",
       "    </tr>\n",
       "  </thead>\n",
       "  <tbody>\n",
       "    <tr>\n",
       "      <th>0</th>\n",
       "      <td>10000</td>\n",
       "      <td>0</td>\n",
       "    </tr>\n",
       "    <tr>\n",
       "      <th>1</th>\n",
       "      <td>10001</td>\n",
       "      <td>2</td>\n",
       "    </tr>\n",
       "    <tr>\n",
       "      <th>2</th>\n",
       "      <td>10002</td>\n",
       "      <td>1</td>\n",
       "    </tr>\n",
       "    <tr>\n",
       "      <th>3</th>\n",
       "      <td>10003</td>\n",
       "      <td>2</td>\n",
       "    </tr>\n",
       "    <tr>\n",
       "      <th>4</th>\n",
       "      <td>10004</td>\n",
       "      <td>2</td>\n",
       "    </tr>\n",
       "  </tbody>\n",
       "</table>\n",
       "</div>"
      ],
      "text/plain": [
       "     UID  acc_id1_count\n",
       "0  10000              0\n",
       "1  10001              2\n",
       "2  10002              1\n",
       "3  10003              2\n",
       "4  10004              2"
      ]
     },
     "execution_count": 13,
     "metadata": {},
     "output_type": "execute_result"
    }
   ],
   "source": [
    "train_test_tr_uid_field = train_test_tr[['UID', 'acc_id1']]\n",
    "train_test_tr_uid_field.drop_duplicates(['UID', 'acc_id1'], 'first', inplace=True)\n",
    "train_test_tr_uid1_count = train_test_tr_uid_field[['acc_id1']].groupby(train_test_tr_uid_field['UID']).count().add_suffix('_count').reset_index()\n",
    "train_test_tr_uid1_count.head(5)"
   ]
  },
  {
   "cell_type": "code",
   "execution_count": 14,
   "metadata": {},
   "outputs": [
    {
     "data": {
      "text/plain": [
       "(60643, 20)"
      ]
     },
     "execution_count": 14,
     "metadata": {},
     "output_type": "execute_result"
    }
   ],
   "source": [
    "for col in ['acc_id2','acc_id3','amt_src1','amt_src2','trans_type2','trans_type1','market_code','market_type','merchant','channel','device_code1','device_code2','device1','device2','mac1','ip1','ip1_sub','geo_code']:\n",
    "    train_X_op_uid_field_temp = train_test_tr[['UID', '{0}'.format(col)]]\n",
    "    train_X_op_uid_field_temp.drop_duplicates(['UID', '{0}'.format(col)], 'first', inplace=True)\n",
    "    train_X_op_uid_field_temp_count = train_X_op_uid_field_temp[['{0}'.format(col)]].groupby(train_X_op_uid_field_temp['UID']).count().add_suffix('_count').reset_index()\n",
    "    train_test_tr_uid1_count = pd.merge(train_test_tr_uid1_count, train_X_op_uid_field_temp_count, how='left', on='UID')\n",
    "train_test_tr_uid1_count.head(5)\n",
    "train_test_tr_uid1_count.shape"
   ]
  },
  {
   "cell_type": "markdown",
   "metadata": {},
   "source": [
    "# 金额特征"
   ]
  },
  {
   "cell_type": "code",
   "execution_count": 15,
   "metadata": {},
   "outputs": [
    {
     "data": {
      "text/plain": [
       "(60643, 16)"
      ]
     },
     "execution_count": 15,
     "metadata": {},
     "output_type": "execute_result"
    }
   ],
   "source": [
    "train_test_tr_uid2_channel_amt=train_test_tr.groupby(['UID','channel'])['trans_amt'].agg({'mean','max','min'}).add_prefix('amt_channel_').unstack()\n",
    "train_test_tr_uid2_channel_amt.columns = [x[0]+\"_\"+str(x[1]) for x in train_test_tr_uid2_channel_amt.columns.ravel()]\n",
    "train_test_tr_uid2_channel_amt.reset_index(inplace=True)\n",
    "train_test_tr_uid2_channel_amt.fillna(0.0,inplace=True)\n",
    "train_test_tr_uid2_channel_amt.shape"
   ]
  },
  {
   "cell_type": "code",
   "execution_count": 16,
   "metadata": {},
   "outputs": [
    {
     "data": {
      "text/plain": [
       "(60643, 10)"
      ]
     },
     "execution_count": 16,
     "metadata": {},
     "output_type": "execute_result"
    }
   ],
   "source": [
    "train_test_tr_uid2_market_type_amt=train_test_tr.groupby(['UID','market_type'])['trans_amt'].agg({'mean','max','min'}).add_prefix('amt_market_type_').unstack()\n",
    "train_test_tr_uid2_market_type_amt.columns = [x[0]+\"_\"+str(x[1]) for x in train_test_tr_uid2_market_type_amt.columns.ravel()]\n",
    "train_test_tr_uid2_market_type_amt.reset_index(inplace=True)\n",
    "train_test_tr_uid2_market_type_amt.fillna(0.0,inplace=True)\n",
    "train_test_tr_uid2_market_type_amt.shape"
   ]
  },
  {
   "cell_type": "code",
   "execution_count": 17,
   "metadata": {},
   "outputs": [
    {
     "data": {
      "text/plain": [
       "(60643, 16)"
      ]
     },
     "execution_count": 17,
     "metadata": {},
     "output_type": "execute_result"
    }
   ],
   "source": [
    "train_test_tr_uid2_trans_type2_amt=train_test_tr.groupby(['UID','trans_type2'])['trans_amt'].agg({'mean','max','min'}).add_prefix('amt_trans_type2_').unstack()\n",
    "train_test_tr_uid2_trans_type2_amt.columns = [x[0]+\"_\"+str(x[1]) for x in train_test_tr_uid2_trans_type2_amt.columns.ravel()]\n",
    "train_test_tr_uid2_trans_type2_amt.reset_index(inplace=True)\n",
    "train_test_tr_uid2_trans_type2_amt.fillna(0.0,inplace=True)\n",
    "train_test_tr_uid2_trans_type2_amt.shape"
   ]
  },
  {
   "cell_type": "code",
   "execution_count": 18,
   "metadata": {},
   "outputs": [
    {
     "data": {
      "text/plain": [
       "(60643, 49)"
      ]
     },
     "execution_count": 18,
     "metadata": {},
     "output_type": "execute_result"
    }
   ],
   "source": [
    "train_test_tr_uid2_trans_type1_amt=train_test_tr.groupby(['UID','trans_type1'])['trans_amt'].agg({'mean','max','min'}).add_prefix('amt_trans_type1_').unstack()\n",
    "train_test_tr_uid2_trans_type1_amt.columns = [x[0]+\"_\"+str(x[1]) for x in train_test_tr_uid2_trans_type1_amt.columns.ravel()]\n",
    "train_test_tr_uid2_trans_type1_amt.reset_index(inplace=True)\n",
    "train_test_tr_uid2_trans_type1_amt.fillna(0.0,inplace=True)\n",
    "train_test_tr_uid2_trans_type1_amt.shape"
   ]
  },
  {
   "cell_type": "code",
   "execution_count": 19,
   "metadata": {},
   "outputs": [
    {
     "data": {
      "text/plain": [
       "(60643, 37)"
      ]
     },
     "execution_count": 19,
     "metadata": {},
     "output_type": "execute_result"
    }
   ],
   "source": [
    "train_test_tr_uid2_amt_src1_amt=train_test_tr.groupby(['UID','amt_src1'])['trans_amt'].agg({'mean','max','min'}).add_prefix('amt_amt_src1_').unstack()\n",
    "train_test_tr_uid2_amt_src1_amt.columns = [x[0]+\"_\"+str(x[1]) for x in train_test_tr_uid2_amt_src1_amt.columns.ravel()]\n",
    "train_test_tr_uid2_amt_src1_amt.reset_index(inplace=True)\n",
    "train_test_tr_uid2_amt_src1_amt.fillna(0.0,inplace=True)\n",
    "train_test_tr_uid2_amt_src1_amt.shape"
   ]
  },
  {
   "cell_type": "markdown",
   "metadata": {},
   "source": [
    "# 余额特征"
   ]
  },
  {
   "cell_type": "code",
   "execution_count": 20,
   "metadata": {},
   "outputs": [
    {
     "data": {
      "text/plain": [
       "(60643, 16)"
      ]
     },
     "execution_count": 20,
     "metadata": {},
     "output_type": "execute_result"
    }
   ],
   "source": [
    "train_test_tr_uid2_channel_bal=train_test_tr.groupby(['UID','channel'])['bal'].agg({'mean','max','min'}).add_prefix('amt_channel_').unstack()\n",
    "train_test_tr_uid2_channel_bal.columns = [x[0]+\"_\"+str(x[1]) for x in train_test_tr_uid2_channel_bal.columns.ravel()]\n",
    "train_test_tr_uid2_channel_bal.reset_index(inplace=True)\n",
    "train_test_tr_uid2_channel_bal.fillna(0.0,inplace=True)\n",
    "train_test_tr_uid2_channel_bal.shape"
   ]
  },
  {
   "cell_type": "code",
   "execution_count": 21,
   "metadata": {},
   "outputs": [
    {
     "data": {
      "text/plain": [
       "(60643, 10)"
      ]
     },
     "execution_count": 21,
     "metadata": {},
     "output_type": "execute_result"
    }
   ],
   "source": [
    "train_test_tr_uid2_market_type_bal=train_test_tr.groupby(['UID','market_type'])['bal'].agg({'mean','max','min'}).add_prefix('amt_market_type_').unstack()\n",
    "train_test_tr_uid2_market_type_bal.columns = [x[0]+\"_\"+str(x[1]) for x in train_test_tr_uid2_market_type_bal.columns.ravel()]\n",
    "train_test_tr_uid2_market_type_bal.reset_index(inplace=True)\n",
    "train_test_tr_uid2_market_type_bal.fillna(0.0,inplace=True)\n",
    "train_test_tr_uid2_market_type_bal.shape"
   ]
  },
  {
   "cell_type": "code",
   "execution_count": 22,
   "metadata": {},
   "outputs": [
    {
     "data": {
      "text/plain": [
       "(60643, 16)"
      ]
     },
     "execution_count": 22,
     "metadata": {},
     "output_type": "execute_result"
    }
   ],
   "source": [
    "train_test_tr_uid2_trans_type2_bal=train_test_tr.groupby(['UID','trans_type2'])['bal'].agg({'mean','max','min'}).add_prefix('amt_trans_type2_').unstack()\n",
    "train_test_tr_uid2_trans_type2_bal.columns = [x[0]+\"_\"+str(x[1]) for x in train_test_tr_uid2_trans_type2_bal.columns.ravel()]\n",
    "train_test_tr_uid2_trans_type2_bal.reset_index(inplace=True)\n",
    "train_test_tr_uid2_trans_type2_bal.fillna(0.0,inplace=True)\n",
    "train_test_tr_uid2_trans_type2_bal.shape"
   ]
  },
  {
   "cell_type": "code",
   "execution_count": 23,
   "metadata": {},
   "outputs": [
    {
     "data": {
      "text/plain": [
       "(60643, 49)"
      ]
     },
     "execution_count": 23,
     "metadata": {},
     "output_type": "execute_result"
    }
   ],
   "source": [
    "train_test_tr_uid2_trans_type1_bal=train_test_tr.groupby(['UID','trans_type1'])['bal'].agg({'mean','max','min'}).add_prefix('amt_trans_type1_').unstack()\n",
    "train_test_tr_uid2_trans_type1_bal.columns = [x[0]+\"_\"+str(x[1]) for x in train_test_tr_uid2_trans_type1_bal.columns.ravel()]\n",
    "train_test_tr_uid2_trans_type1_bal.reset_index(inplace=True)\n",
    "train_test_tr_uid2_trans_type1_bal.fillna(0.0,inplace=True)\n",
    "train_test_tr_uid2_trans_type1_bal.shape"
   ]
  },
  {
   "cell_type": "code",
   "execution_count": 24,
   "metadata": {},
   "outputs": [
    {
     "data": {
      "text/plain": [
       "(60643, 37)"
      ]
     },
     "execution_count": 24,
     "metadata": {},
     "output_type": "execute_result"
    }
   ],
   "source": [
    "train_test_tr_uid2_amt_src1_bal=train_test_tr.groupby(['UID','amt_src1'])['bal'].agg({'mean','max','min'}).add_prefix('amt_amt_src1_').unstack()\n",
    "train_test_tr_uid2_amt_src1_bal.columns = [x[0]+\"_\"+str(x[1]) for x in train_test_tr_uid2_amt_src1_bal.columns.ravel()]\n",
    "train_test_tr_uid2_amt_src1_bal.reset_index(inplace=True)\n",
    "train_test_tr_uid2_amt_src1_bal.fillna(0.0,inplace=True)\n",
    "train_test_tr_uid2_amt_src1_bal.shape"
   ]
  },
  {
   "cell_type": "markdown",
   "metadata": {},
   "source": [
    "# 日期，平均每日交易次数"
   ]
  },
  {
   "cell_type": "code",
   "execution_count": 25,
   "metadata": {},
   "outputs": [
    {
     "data": {
      "text/plain": [
       "(60643, 2)"
      ]
     },
     "execution_count": 25,
     "metadata": {},
     "output_type": "execute_result"
    }
   ],
   "source": [
    "train_test_tr_uid_day = train_test_tr[['UID', 'day']]\n",
    "train_test_tr_uid_day.drop_duplicates(['UID', 'day'], 'first', inplace=True)\n",
    "train_test_tr_uid1_day_count = train_test_tr_uid_day[['day']].groupby(train_test_tr_uid_day['UID']).count().add_suffix('_count').reset_index()\n",
    "train_test_tr_uid1_day_count.shape"
   ]
  },
  {
   "cell_type": "code",
   "execution_count": 26,
   "metadata": {},
   "outputs": [
    {
     "data": {
      "text/plain": [
       "(60643, 2)"
      ]
     },
     "execution_count": 26,
     "metadata": {},
     "output_type": "execute_result"
    }
   ],
   "source": [
    "train_test_tr['day_time'] = train_test_tr.apply(lambda x: str(x['day']) + \"_\" + str(x['time']) , axis=1)\n",
    "train_test_tr_uid1_day_time_count = train_test_tr[['day_time']].groupby(train_test_tr['UID']).count().add_suffix('_count').reset_index()\n",
    "train_test_tr_uid1_day_time_count.shape"
   ]
  },
  {
   "cell_type": "code",
   "execution_count": 27,
   "metadata": {},
   "outputs": [
    {
     "data": {
      "text/plain": [
       "(60643, 4)"
      ]
     },
     "execution_count": 27,
     "metadata": {},
     "output_type": "execute_result"
    }
   ],
   "source": [
    "train_test_tr_uid1_count_day_avg = pd.merge(train_test_tr_uid1_day_time_count,train_test_tr_uid1_day_count,how='left',on='UID')\n",
    "train_test_tr_uid1_count_day_avg['count_day_avg']=train_test_tr_uid1_count_day_avg['day_time_count']/train_test_tr_uid1_count_day_avg['day_count']\n",
    "del train_test_tr_uid1_day_count,train_test_tr_uid1_day_time_count\n",
    "train_test_tr_uid1_count_day_avg.shape"
   ]
  },
  {
   "cell_type": "markdown",
   "metadata": {},
   "source": [
    "# 相邻两次交易时间差"
   ]
  },
  {
   "cell_type": "code",
   "execution_count": 28,
   "metadata": {},
   "outputs": [
    {
     "data": {
      "text/plain": [
       "(60643, 4)"
      ]
     },
     "execution_count": 28,
     "metadata": {},
     "output_type": "execute_result"
    }
   ],
   "source": [
    "#需要先排序\n",
    "train_test_tr.sort_values(by=['UID','day','time'],inplace=True)\n",
    "train_test_tr['day_shift'] = train_test_tr.groupby('UID')['day'].shift(-1)\n",
    "train_test_tr_uid_day_diff_avg_max_min=train_test_tr.groupby(['UID'])['day_shift'].agg({'mean','max','min'}).add_prefix('day_shift_').reset_index()\n",
    "train_test_tr_uid_day_diff_avg_max_min.fillna(0.0,inplace=True)\n",
    "train_test_tr_uid_day_diff_avg_max_min.shape"
   ]
  },
  {
   "cell_type": "markdown",
   "metadata": {},
   "source": [
    "# 特征merge left"
   ]
  },
  {
   "cell_type": "code",
   "execution_count": 29,
   "metadata": {},
   "outputs": [
    {
     "data": {
      "text/plain": [
       "(60643, 253)"
      ]
     },
     "execution_count": 29,
     "metadata": {},
     "output_type": "execute_result"
    }
   ],
   "source": [
    "feature_tr_train_test = pd.merge(train_test_tr_uid1_count_day_avg, train_test_tr_uid_day_diff_avg_max_min, how='left', on='UID')\n",
    "\n",
    "feature_tr_train_test = pd.merge(feature_tr_train_test, train_test_tr_uid2_amt_src1_bal, how='left', on='UID')\n",
    "feature_tr_train_test = pd.merge(feature_tr_train_test, train_test_tr_uid2_trans_type2_bal, how='left', on='UID')\n",
    "feature_tr_train_test = pd.merge(feature_tr_train_test, train_test_tr_uid2_trans_type1_bal, how='left', on='UID')\n",
    "feature_tr_train_test = pd.merge(feature_tr_train_test, train_test_tr_uid2_market_type_bal, how='left', on='UID')\n",
    "feature_tr_train_test = pd.merge(feature_tr_train_test, train_test_tr_uid2_channel_bal, how='left', on='UID')\n",
    "\n",
    "feature_tr_train_test = pd.merge(feature_tr_train_test, train_test_tr_uid2_amt_src1_amt, how='left', on='UID')\n",
    "feature_tr_train_test = pd.merge(feature_tr_train_test, train_test_tr_uid2_trans_type2_amt, how='left', on='UID')\n",
    "feature_tr_train_test = pd.merge(feature_tr_train_test, train_test_tr_uid2_trans_type1_amt, how='left', on='UID')\n",
    "feature_tr_train_test = pd.merge(feature_tr_train_test, train_test_tr_uid2_market_type_amt, how='left', on='UID')\n",
    "feature_tr_train_test = pd.merge(feature_tr_train_test, train_test_tr_uid2_channel_amt, how='left', on='UID')\n",
    "\n",
    "feature_tr_train_test.shape"
   ]
  },
  {
   "cell_type": "code",
   "execution_count": 30,
   "metadata": {},
   "outputs": [],
   "source": [
    "del train_test_tr"
   ]
  },
  {
   "cell_type": "markdown",
   "metadata": {},
   "source": [
    " # 分别和训练集的label 和提交的uid 关联，分开"
   ]
  },
  {
   "cell_type": "code",
   "execution_count": 31,
   "metadata": {},
   "outputs": [
    {
     "data": {
      "text/plain": [
       "(31198, 253)"
      ]
     },
     "execution_count": 31,
     "metadata": {},
     "output_type": "execute_result"
    }
   ],
   "source": [
    "label_train.shape\n",
    "feature_tr_train = pd.merge(label_train, feature_tr_train_test, how='left', on='UID')\n",
    "feature_tr_train.shape\n",
    "feature_tr_test = pd.merge(label_test, feature_tr_train_test, how='left', on='UID')\n",
    "feature_tr_test.shape"
   ]
  },
  {
   "cell_type": "code",
   "execution_count": 32,
   "metadata": {},
   "outputs": [],
   "source": [
    "feature_tr_train.to_csv('D:/transaction_risk_competition/data_for_model/fengkong_feature_train_trans.csv',index=False)\n",
    "feature_tr_test.to_csv('D:/transaction_risk_competition/data_for_model/fengkong_feature_test_trans.csv',index=False)"
   ]
  },
  {
   "cell_type": "code",
   "execution_count": 33,
   "metadata": {},
   "outputs": [],
   "source": [
    "del feature_tr_test,feature_tr_train\n",
    "del label_train,label_test\n",
    "del feature_tr_train_test\n",
    "del train_test_tr_uid2_channel_amt,train_test_tr_uid2_market_type_amt,train_test_tr_uid2_trans_type1_amt,train_test_tr_uid2_trans_type2_amt,train_test_tr_uid2_amt_src1_amt\n",
    "del train_test_tr_uid2_channel_bal,train_test_tr_uid2_market_type_bal,train_test_tr_uid2_trans_type1_bal,train_test_tr_uid2_trans_type2_bal,train_test_tr_uid2_amt_src1_bal\n",
    "del train_test_tr_uid_day_diff_avg_max_min,train_test_tr_uid1_count_day_avg"
   ]
  }
 ],
 "metadata": {
  "kernelspec": {
   "display_name": "Python 3",
   "language": "python",
   "name": "python3"
  },
  "language_info": {
   "codemirror_mode": {
    "name": "ipython",
    "version": 3
   },
   "file_extension": ".py",
   "mimetype": "text/x-python",
   "name": "python",
   "nbconvert_exporter": "python",
   "pygments_lexer": "ipython3",
   "version": "3.7.0"
  }
 },
 "nbformat": 4,
 "nbformat_minor": 2
}
